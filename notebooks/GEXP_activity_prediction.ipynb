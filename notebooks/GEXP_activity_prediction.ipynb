{
 "cells": [
  {
   "cell_type": "code",
   "execution_count": 10,
   "metadata": {},
   "outputs": [],
   "source": [
    "import pandas as pd\n",
    "import numpy as np\n",
    "from IPython.display import clear_output\n",
    "import ast"
   ]
  },
  {
   "cell_type": "code",
   "execution_count": 2,
   "metadata": {},
   "outputs": [
    {
     "name": "stdout",
     "output_type": "stream",
     "text": [
      "mv: /Users/zswitten/Downloads/GSE92742_Broad_LINCS_sig_info.txt: No such file or directory\r\n"
     ]
    }
   ],
   "source": [
    "mv /Users/zswitten/Downloads/GSE92742_Broad_LINCS_sig_info.txt ../data/signature_gexp.txt"
   ]
  },
  {
   "cell_type": "code",
   "execution_count": 41,
   "metadata": {},
   "outputs": [],
   "source": [
    "inhibitiondf = pd.read_csv('../data/gexp_activity_test.csv')\n",
    "inhibitiondf['pert_id'] = inhibitiondf.pert_id.apply(lambda x: ast.literal_eval(x))\n",
    "inhibitiondf = inhibitiondf.explode('pert_id')"
   ]
  },
  {
   "cell_type": "code",
   "execution_count": 4,
   "metadata": {},
   "outputs": [],
   "source": [
    "\"\"\"\n",
    "[\n",
    "    A: 0.5\n",
    "    B, C: 0.7\n",
    "]\n",
    "A and B are perturbagens\n",
    "When B and C are in the same row, they map to the 'same drug'\n",
    "\n",
    "->\n",
    "\n",
    "[\n",
    " A: 0.5\n",
    " B: 0.7\n",
    " C: 0.7\n",
    "]\n",
    "\n",
    "[\n",
    "    A1: 0.5\n",
    "    A2: 0.5\n",
    "    ...\n",
    "    AN: 0.5 where each Ai is a signature associated with A\n",
    "]\n",
    "\n",
    "\n",
    "Training:\n",
    "[\n",
    "    [g01, g02, ..., g012000]: 0.5\n",
    "    [g11, g12, ..., g12000]: 0.7\n",
    "]\n",
    "\n",
    "Prediction:\n",
    "    Map a drug to all its associated GEXPs, make predictions, then combine them\n",
    "    Or combine the GEXPs, then make one prediction\n",
    "\"\"\"\n",
    "clear_output()"
   ]
  },
  {
   "cell_type": "code",
   "execution_count": 5,
   "metadata": {},
   "outputs": [
    {
     "name": "stderr",
     "output_type": "stream",
     "text": [
      "/Users/zswitten/coronavirus/env/lib/python3.7/site-packages/IPython/core/interactiveshell.py:3063: DtypeWarning: Columns (5) have mixed types.Specify dtype option on import or set low_memory=False.\n",
      "  interactivity=interactivity, compiler=compiler, result=result)\n"
     ]
    }
   ],
   "source": [
    "signaturedf = pd.read_csv('../data/signature_gexp.txt', sep='\\t')"
   ]
  },
  {
   "cell_type": "code",
   "execution_count": 6,
   "metadata": {},
   "outputs": [],
   "source": [
    "gexpdf = pd.read_csv('../data/level5_1000.csv')"
   ]
  },
  {
   "cell_type": "code",
   "execution_count": 67,
   "metadata": {},
   "outputs": [
    {
     "data": {
      "text/html": [
       "<div>\n",
       "<style scoped>\n",
       "    .dataframe tbody tr th:only-of-type {\n",
       "        vertical-align: middle;\n",
       "    }\n",
       "\n",
       "    .dataframe tbody tr th {\n",
       "        vertical-align: top;\n",
       "    }\n",
       "\n",
       "    .dataframe thead th {\n",
       "        text-align: right;\n",
       "    }\n",
       "</style>\n",
       "<table border=\"1\" class=\"dataframe\">\n",
       "  <thead>\n",
       "    <tr style=\"text-align: right;\">\n",
       "      <th></th>\n",
       "      <th>pert_id</th>\n",
       "      <th>smiles</th>\n",
       "      <th>Inh_index</th>\n",
       "    </tr>\n",
       "  </thead>\n",
       "  <tbody>\n",
       "    <tr>\n",
       "      <th>0</th>\n",
       "      <td>BRD-K54094468</td>\n",
       "      <td>CCN1CCCC1CNC(=O)c1c(OC)ccc(Br)c1OC</td>\n",
       "      <td>0.346536</td>\n",
       "    </tr>\n",
       "    <tr>\n",
       "      <th>1</th>\n",
       "      <td>BRD-K04111260</td>\n",
       "      <td>CCN1CCCC1CNC(=O)c1c(O)c(Cl)cc(Cl)c1OC</td>\n",
       "      <td>0.043675</td>\n",
       "    </tr>\n",
       "    <tr>\n",
       "      <th>2</th>\n",
       "      <td>BRD-A60197193</td>\n",
       "      <td>CCN1CCCC1CNC(=O)c1cc(S(=O)(=O)CC)c(N)cc1OC</td>\n",
       "      <td>0.094621</td>\n",
       "    </tr>\n",
       "    <tr>\n",
       "      <th>3</th>\n",
       "      <td>BRD-A55272860</td>\n",
       "      <td>CCN1CCCC1CNC(=O)c1cc(S(N)(=O)=O)ccc1OC</td>\n",
       "      <td>0.043702</td>\n",
       "    </tr>\n",
       "    <tr>\n",
       "      <th>3</th>\n",
       "      <td>BRD-K51671335</td>\n",
       "      <td>CCN1CCCC1CNC(=O)c1cc(S(N)(=O)=O)ccc1OC</td>\n",
       "      <td>0.043702</td>\n",
       "    </tr>\n",
       "  </tbody>\n",
       "</table>\n",
       "</div>"
      ],
      "text/plain": [
       "         pert_id                                      smiles  Inh_index\n",
       "0  BRD-K54094468          CCN1CCCC1CNC(=O)c1c(OC)ccc(Br)c1OC   0.346536\n",
       "1  BRD-K04111260       CCN1CCCC1CNC(=O)c1c(O)c(Cl)cc(Cl)c1OC   0.043675\n",
       "2  BRD-A60197193  CCN1CCCC1CNC(=O)c1cc(S(=O)(=O)CC)c(N)cc1OC   0.094621\n",
       "3  BRD-A55272860      CCN1CCCC1CNC(=O)c1cc(S(N)(=O)=O)ccc1OC   0.043702\n",
       "3  BRD-K51671335      CCN1CCCC1CNC(=O)c1cc(S(N)(=O)=O)ccc1OC   0.043702"
      ]
     },
     "execution_count": 67,
     "metadata": {},
     "output_type": "execute_result"
    }
   ],
   "source": [
    "# len(inhibitiondf)\n",
    "inhibitiondf.head()"
   ]
  },
  {
   "cell_type": "code",
   "execution_count": 7,
   "metadata": {},
   "outputs": [
    {
     "data": {
      "text/html": [
       "<div>\n",
       "<style scoped>\n",
       "    .dataframe tbody tr th:only-of-type {\n",
       "        vertical-align: middle;\n",
       "    }\n",
       "\n",
       "    .dataframe tbody tr th {\n",
       "        vertical-align: top;\n",
       "    }\n",
       "\n",
       "    .dataframe thead th {\n",
       "        text-align: right;\n",
       "    }\n",
       "</style>\n",
       "<table border=\"1\" class=\"dataframe\">\n",
       "  <thead>\n",
       "    <tr style=\"text-align: right;\">\n",
       "      <th></th>\n",
       "      <th>sig_id</th>\n",
       "      <th>pert_id</th>\n",
       "      <th>pert_iname</th>\n",
       "      <th>pert_type</th>\n",
       "      <th>cell_id</th>\n",
       "      <th>pert_dose</th>\n",
       "      <th>pert_dose_unit</th>\n",
       "      <th>pert_idose</th>\n",
       "      <th>pert_time</th>\n",
       "      <th>pert_time_unit</th>\n",
       "      <th>pert_itime</th>\n",
       "      <th>distil_id</th>\n",
       "    </tr>\n",
       "  </thead>\n",
       "  <tbody>\n",
       "    <tr>\n",
       "      <th>0</th>\n",
       "      <td>AML001_CD34_24H:A05</td>\n",
       "      <td>DMSO</td>\n",
       "      <td>DMSO</td>\n",
       "      <td>ctl_vehicle</td>\n",
       "      <td>CD34</td>\n",
       "      <td>0.1</td>\n",
       "      <td>%</td>\n",
       "      <td>0.1 %</td>\n",
       "      <td>24</td>\n",
       "      <td>h</td>\n",
       "      <td>24 h</td>\n",
       "      <td>AML001_CD34_24H_X1_F1B10:A05</td>\n",
       "    </tr>\n",
       "    <tr>\n",
       "      <th>1</th>\n",
       "      <td>AML001_CD34_24H:A06</td>\n",
       "      <td>DMSO</td>\n",
       "      <td>DMSO</td>\n",
       "      <td>ctl_vehicle</td>\n",
       "      <td>CD34</td>\n",
       "      <td>0.1</td>\n",
       "      <td>%</td>\n",
       "      <td>0.1 %</td>\n",
       "      <td>24</td>\n",
       "      <td>h</td>\n",
       "      <td>24 h</td>\n",
       "      <td>AML001_CD34_24H_X3_F1B10:A06</td>\n",
       "    </tr>\n",
       "    <tr>\n",
       "      <th>2</th>\n",
       "      <td>AML001_CD34_24H:B05</td>\n",
       "      <td>DMSO</td>\n",
       "      <td>DMSO</td>\n",
       "      <td>ctl_vehicle</td>\n",
       "      <td>CD34</td>\n",
       "      <td>0.1</td>\n",
       "      <td>%</td>\n",
       "      <td>0.1 %</td>\n",
       "      <td>24</td>\n",
       "      <td>h</td>\n",
       "      <td>24 h</td>\n",
       "      <td>AML001_CD34_24H_X1_F1B10:B05|AML001_CD34_24H_X...</td>\n",
       "    </tr>\n",
       "    <tr>\n",
       "      <th>3</th>\n",
       "      <td>AML001_CD34_24H:B06</td>\n",
       "      <td>DMSO</td>\n",
       "      <td>DMSO</td>\n",
       "      <td>ctl_vehicle</td>\n",
       "      <td>CD34</td>\n",
       "      <td>0.1</td>\n",
       "      <td>%</td>\n",
       "      <td>0.1 %</td>\n",
       "      <td>24</td>\n",
       "      <td>h</td>\n",
       "      <td>24 h</td>\n",
       "      <td>AML001_CD34_24H_X3_F1B10:B06</td>\n",
       "    </tr>\n",
       "    <tr>\n",
       "      <th>4</th>\n",
       "      <td>AML001_CD34_24H:BRD-A03772856:0.37037</td>\n",
       "      <td>BRD-A03772856</td>\n",
       "      <td>BRD-A03772856</td>\n",
       "      <td>trt_cp</td>\n",
       "      <td>CD34</td>\n",
       "      <td>0.37037</td>\n",
       "      <td>µM</td>\n",
       "      <td>500 nM</td>\n",
       "      <td>24</td>\n",
       "      <td>h</td>\n",
       "      <td>24 h</td>\n",
       "      <td>AML001_CD34_24H_X1_F1B10:J04|AML001_CD34_24H_X...</td>\n",
       "    </tr>\n",
       "  </tbody>\n",
       "</table>\n",
       "</div>"
      ],
      "text/plain": [
       "                                  sig_id        pert_id     pert_iname  \\\n",
       "0                    AML001_CD34_24H:A05           DMSO           DMSO   \n",
       "1                    AML001_CD34_24H:A06           DMSO           DMSO   \n",
       "2                    AML001_CD34_24H:B05           DMSO           DMSO   \n",
       "3                    AML001_CD34_24H:B06           DMSO           DMSO   \n",
       "4  AML001_CD34_24H:BRD-A03772856:0.37037  BRD-A03772856  BRD-A03772856   \n",
       "\n",
       "     pert_type cell_id pert_dose pert_dose_unit pert_idose  pert_time  \\\n",
       "0  ctl_vehicle    CD34       0.1              %      0.1 %         24   \n",
       "1  ctl_vehicle    CD34       0.1              %      0.1 %         24   \n",
       "2  ctl_vehicle    CD34       0.1              %      0.1 %         24   \n",
       "3  ctl_vehicle    CD34       0.1              %      0.1 %         24   \n",
       "4       trt_cp    CD34   0.37037             µM     500 nM         24   \n",
       "\n",
       "  pert_time_unit pert_itime                                          distil_id  \n",
       "0              h       24 h                       AML001_CD34_24H_X1_F1B10:A05  \n",
       "1              h       24 h                       AML001_CD34_24H_X3_F1B10:A06  \n",
       "2              h       24 h  AML001_CD34_24H_X1_F1B10:B05|AML001_CD34_24H_X...  \n",
       "3              h       24 h                       AML001_CD34_24H_X3_F1B10:B06  \n",
       "4              h       24 h  AML001_CD34_24H_X1_F1B10:J04|AML001_CD34_24H_X...  "
      ]
     },
     "execution_count": 7,
     "metadata": {},
     "output_type": "execute_result"
    }
   ],
   "source": [
    "signaturedf.head()"
   ]
  },
  {
   "cell_type": "code",
   "execution_count": 8,
   "metadata": {},
   "outputs": [
    {
     "data": {
      "text/html": [
       "<div>\n",
       "<style scoped>\n",
       "    .dataframe tbody tr th:only-of-type {\n",
       "        vertical-align: middle;\n",
       "    }\n",
       "\n",
       "    .dataframe tbody tr th {\n",
       "        vertical-align: top;\n",
       "    }\n",
       "\n",
       "    .dataframe thead th {\n",
       "        text-align: right;\n",
       "    }\n",
       "</style>\n",
       "<table border=\"1\" class=\"dataframe\">\n",
       "  <thead>\n",
       "    <tr style=\"text-align: right;\">\n",
       "      <th></th>\n",
       "      <th>rid</th>\n",
       "      <th>CPC005_A375_6H:BRD-A85280935-003-01-7:10</th>\n",
       "      <th>CPC005_A375_6H:BRD-A07824748-001-02-6:10</th>\n",
       "      <th>CPC004_A375_6H:BRD-K20482099-001-01-1:10</th>\n",
       "      <th>CPC005_A375_6H:BRD-K62929068-001-03-3:10</th>\n",
       "      <th>CPC005_A375_6H:BRD-K43405658-001-01-8:10</th>\n",
       "      <th>CPC004_A375_6H:BRD-K03670461-001-02-0:10</th>\n",
       "      <th>CPC004_A375_6H:BRD-K36737713-001-01-6:10</th>\n",
       "      <th>CPC005_A375_6H:BRD-K51223576-001-01-3:10</th>\n",
       "      <th>CPC004_A375_6H:BRD-A14966924-001-03-0:10</th>\n",
       "      <th>...</th>\n",
       "      <th>CPC005_A375_24H:BRD-A59303141-001-03-9:10</th>\n",
       "      <th>CPC005_A375_24H:BRD-K54665485-001-04-6:10</th>\n",
       "      <th>CPC005_A375_24H:BRD-A54236247-003-03-5:10</th>\n",
       "      <th>CPC005_A375_24H:BRD-K10098805-001-02-0:10</th>\n",
       "      <th>CPC005_A375_24H:BRD-K13725475-001-02-4:10</th>\n",
       "      <th>CPC005_A375_24H:BRD-A08003242-001-02-7:10</th>\n",
       "      <th>CPC005_A375_24H:BRD-K43796186-001-01-1:10</th>\n",
       "      <th>CPC005_A375_24H:BRD-K83063356-003-01-7:10</th>\n",
       "      <th>CPC005_A375_24H:BRD-K86600316-003-01-2:10</th>\n",
       "      <th>CPC005_A375_24H:BRD-A92585442-237-01-0:10</th>\n",
       "    </tr>\n",
       "  </thead>\n",
       "  <tbody>\n",
       "    <tr>\n",
       "      <th>0</th>\n",
       "      <td>5720</td>\n",
       "      <td>0.773769</td>\n",
       "      <td>-0.645586</td>\n",
       "      <td>-5.449666</td>\n",
       "      <td>0.193408</td>\n",
       "      <td>1.006298</td>\n",
       "      <td>-5.388713</td>\n",
       "      <td>-1.000240</td>\n",
       "      <td>0.490110</td>\n",
       "      <td>0.063297</td>\n",
       "      <td>...</td>\n",
       "      <td>0.160586</td>\n",
       "      <td>-0.193009</td>\n",
       "      <td>0.247968</td>\n",
       "      <td>0.384757</td>\n",
       "      <td>0.352685</td>\n",
       "      <td>-0.233490</td>\n",
       "      <td>0.281433</td>\n",
       "      <td>1.141963</td>\n",
       "      <td>-0.302364</td>\n",
       "      <td>1.025050</td>\n",
       "    </tr>\n",
       "    <tr>\n",
       "      <th>1</th>\n",
       "      <td>466</td>\n",
       "      <td>-0.818468</td>\n",
       "      <td>-0.810749</td>\n",
       "      <td>2.393775</td>\n",
       "      <td>-0.582243</td>\n",
       "      <td>0.455536</td>\n",
       "      <td>1.867731</td>\n",
       "      <td>-1.106092</td>\n",
       "      <td>0.595174</td>\n",
       "      <td>-0.962553</td>\n",
       "      <td>...</td>\n",
       "      <td>0.161364</td>\n",
       "      <td>-0.244689</td>\n",
       "      <td>0.559568</td>\n",
       "      <td>0.592947</td>\n",
       "      <td>-1.140376</td>\n",
       "      <td>-2.413500</td>\n",
       "      <td>-1.134386</td>\n",
       "      <td>0.623217</td>\n",
       "      <td>-0.170404</td>\n",
       "      <td>0.265432</td>\n",
       "    </tr>\n",
       "    <tr>\n",
       "      <th>2</th>\n",
       "      <td>6009</td>\n",
       "      <td>0.189572</td>\n",
       "      <td>0.459060</td>\n",
       "      <td>1.279790</td>\n",
       "      <td>-0.178977</td>\n",
       "      <td>0.631738</td>\n",
       "      <td>0.281383</td>\n",
       "      <td>-0.422545</td>\n",
       "      <td>-0.224163</td>\n",
       "      <td>0.521552</td>\n",
       "      <td>...</td>\n",
       "      <td>-0.663482</td>\n",
       "      <td>-0.235831</td>\n",
       "      <td>0.684576</td>\n",
       "      <td>1.720635</td>\n",
       "      <td>-0.254450</td>\n",
       "      <td>-0.414349</td>\n",
       "      <td>-0.796767</td>\n",
       "      <td>0.418341</td>\n",
       "      <td>0.870858</td>\n",
       "      <td>-0.539486</td>\n",
       "    </tr>\n",
       "    <tr>\n",
       "      <th>3</th>\n",
       "      <td>2309</td>\n",
       "      <td>-0.146031</td>\n",
       "      <td>-0.224676</td>\n",
       "      <td>2.167868</td>\n",
       "      <td>-1.182025</td>\n",
       "      <td>-0.936414</td>\n",
       "      <td>1.378175</td>\n",
       "      <td>0.406279</td>\n",
       "      <td>-0.244783</td>\n",
       "      <td>0.182361</td>\n",
       "      <td>...</td>\n",
       "      <td>0.552385</td>\n",
       "      <td>0.218920</td>\n",
       "      <td>-0.601392</td>\n",
       "      <td>-0.404516</td>\n",
       "      <td>0.662811</td>\n",
       "      <td>1.789149</td>\n",
       "      <td>0.664427</td>\n",
       "      <td>1.452139</td>\n",
       "      <td>-0.774794</td>\n",
       "      <td>-0.752421</td>\n",
       "    </tr>\n",
       "    <tr>\n",
       "      <th>4</th>\n",
       "      <td>387</td>\n",
       "      <td>-0.654002</td>\n",
       "      <td>-0.335681</td>\n",
       "      <td>2.333199</td>\n",
       "      <td>-1.012651</td>\n",
       "      <td>-1.213203</td>\n",
       "      <td>1.290522</td>\n",
       "      <td>-0.218671</td>\n",
       "      <td>-0.124029</td>\n",
       "      <td>0.572183</td>\n",
       "      <td>...</td>\n",
       "      <td>-0.373290</td>\n",
       "      <td>1.054628</td>\n",
       "      <td>0.458266</td>\n",
       "      <td>0.077265</td>\n",
       "      <td>0.079647</td>\n",
       "      <td>-1.665797</td>\n",
       "      <td>-0.323780</td>\n",
       "      <td>0.285577</td>\n",
       "      <td>0.879944</td>\n",
       "      <td>0.504271</td>\n",
       "    </tr>\n",
       "  </tbody>\n",
       "</table>\n",
       "<p>5 rows × 1001 columns</p>\n",
       "</div>"
      ],
      "text/plain": [
       "    rid  CPC005_A375_6H:BRD-A85280935-003-01-7:10  \\\n",
       "0  5720                                  0.773769   \n",
       "1   466                                 -0.818468   \n",
       "2  6009                                  0.189572   \n",
       "3  2309                                 -0.146031   \n",
       "4   387                                 -0.654002   \n",
       "\n",
       "   CPC005_A375_6H:BRD-A07824748-001-02-6:10  \\\n",
       "0                                 -0.645586   \n",
       "1                                 -0.810749   \n",
       "2                                  0.459060   \n",
       "3                                 -0.224676   \n",
       "4                                 -0.335681   \n",
       "\n",
       "   CPC004_A375_6H:BRD-K20482099-001-01-1:10  \\\n",
       "0                                 -5.449666   \n",
       "1                                  2.393775   \n",
       "2                                  1.279790   \n",
       "3                                  2.167868   \n",
       "4                                  2.333199   \n",
       "\n",
       "   CPC005_A375_6H:BRD-K62929068-001-03-3:10  \\\n",
       "0                                  0.193408   \n",
       "1                                 -0.582243   \n",
       "2                                 -0.178977   \n",
       "3                                 -1.182025   \n",
       "4                                 -1.012651   \n",
       "\n",
       "   CPC005_A375_6H:BRD-K43405658-001-01-8:10  \\\n",
       "0                                  1.006298   \n",
       "1                                  0.455536   \n",
       "2                                  0.631738   \n",
       "3                                 -0.936414   \n",
       "4                                 -1.213203   \n",
       "\n",
       "   CPC004_A375_6H:BRD-K03670461-001-02-0:10  \\\n",
       "0                                 -5.388713   \n",
       "1                                  1.867731   \n",
       "2                                  0.281383   \n",
       "3                                  1.378175   \n",
       "4                                  1.290522   \n",
       "\n",
       "   CPC004_A375_6H:BRD-K36737713-001-01-6:10  \\\n",
       "0                                 -1.000240   \n",
       "1                                 -1.106092   \n",
       "2                                 -0.422545   \n",
       "3                                  0.406279   \n",
       "4                                 -0.218671   \n",
       "\n",
       "   CPC005_A375_6H:BRD-K51223576-001-01-3:10  \\\n",
       "0                                  0.490110   \n",
       "1                                  0.595174   \n",
       "2                                 -0.224163   \n",
       "3                                 -0.244783   \n",
       "4                                 -0.124029   \n",
       "\n",
       "   CPC004_A375_6H:BRD-A14966924-001-03-0:10  ...  \\\n",
       "0                                  0.063297  ...   \n",
       "1                                 -0.962553  ...   \n",
       "2                                  0.521552  ...   \n",
       "3                                  0.182361  ...   \n",
       "4                                  0.572183  ...   \n",
       "\n",
       "   CPC005_A375_24H:BRD-A59303141-001-03-9:10  \\\n",
       "0                                   0.160586   \n",
       "1                                   0.161364   \n",
       "2                                  -0.663482   \n",
       "3                                   0.552385   \n",
       "4                                  -0.373290   \n",
       "\n",
       "   CPC005_A375_24H:BRD-K54665485-001-04-6:10  \\\n",
       "0                                  -0.193009   \n",
       "1                                  -0.244689   \n",
       "2                                  -0.235831   \n",
       "3                                   0.218920   \n",
       "4                                   1.054628   \n",
       "\n",
       "   CPC005_A375_24H:BRD-A54236247-003-03-5:10  \\\n",
       "0                                   0.247968   \n",
       "1                                   0.559568   \n",
       "2                                   0.684576   \n",
       "3                                  -0.601392   \n",
       "4                                   0.458266   \n",
       "\n",
       "   CPC005_A375_24H:BRD-K10098805-001-02-0:10  \\\n",
       "0                                   0.384757   \n",
       "1                                   0.592947   \n",
       "2                                   1.720635   \n",
       "3                                  -0.404516   \n",
       "4                                   0.077265   \n",
       "\n",
       "   CPC005_A375_24H:BRD-K13725475-001-02-4:10  \\\n",
       "0                                   0.352685   \n",
       "1                                  -1.140376   \n",
       "2                                  -0.254450   \n",
       "3                                   0.662811   \n",
       "4                                   0.079647   \n",
       "\n",
       "   CPC005_A375_24H:BRD-A08003242-001-02-7:10  \\\n",
       "0                                  -0.233490   \n",
       "1                                  -2.413500   \n",
       "2                                  -0.414349   \n",
       "3                                   1.789149   \n",
       "4                                  -1.665797   \n",
       "\n",
       "   CPC005_A375_24H:BRD-K43796186-001-01-1:10  \\\n",
       "0                                   0.281433   \n",
       "1                                  -1.134386   \n",
       "2                                  -0.796767   \n",
       "3                                   0.664427   \n",
       "4                                  -0.323780   \n",
       "\n",
       "   CPC005_A375_24H:BRD-K83063356-003-01-7:10  \\\n",
       "0                                   1.141963   \n",
       "1                                   0.623217   \n",
       "2                                   0.418341   \n",
       "3                                   1.452139   \n",
       "4                                   0.285577   \n",
       "\n",
       "   CPC005_A375_24H:BRD-K86600316-003-01-2:10  \\\n",
       "0                                  -0.302364   \n",
       "1                                  -0.170404   \n",
       "2                                   0.870858   \n",
       "3                                  -0.774794   \n",
       "4                                   0.879944   \n",
       "\n",
       "   CPC005_A375_24H:BRD-A92585442-237-01-0:10  \n",
       "0                                   1.025050  \n",
       "1                                   0.265432  \n",
       "2                                  -0.539486  \n",
       "3                                  -0.752421  \n",
       "4                                   0.504271  \n",
       "\n",
       "[5 rows x 1001 columns]"
      ]
     },
     "execution_count": 8,
     "metadata": {},
     "output_type": "execute_result"
    }
   ],
   "source": [
    "gexpdf.head()"
   ]
  },
  {
   "cell_type": "code",
   "execution_count": 11,
   "metadata": {},
   "outputs": [],
   "source": [
    "inhibitiondf['pert_id'] = inhibitiondf.pert_id.apply(lambda x: ast.literal_eval(x))"
   ]
  },
  {
   "cell_type": "code",
   "execution_count": 37,
   "metadata": {},
   "outputs": [
    {
     "data": {
      "text/plain": [
       "2"
      ]
     },
     "execution_count": 37,
     "metadata": {},
     "output_type": "execute_result"
    }
   ],
   "source": [
    "inhibitiondf.pert_id.apply(pd.Series)[3].apply(lambda x: x==x).sum()"
   ]
  },
  {
   "cell_type": "code",
   "execution_count": 39,
   "metadata": {},
   "outputs": [
    {
     "data": {
      "text/plain": [
       "320"
      ]
     },
     "execution_count": 39,
     "metadata": {},
     "output_type": "execute_result"
    }
   ],
   "source": [
    "len(inhibitiondf.explode('pert_id'))"
   ]
  },
  {
   "cell_type": "code",
   "execution_count": 49,
   "metadata": {},
   "outputs": [],
   "source": [
    "df = signaturedf.merge(inhibitiondf, on='pert_id')[['sig_id', 'pert_id', 'Inh_index']]"
   ]
  },
  {
   "cell_type": "code",
   "execution_count": 57,
   "metadata": {},
   "outputs": [],
   "source": [
    "df['gexp'] = df.sig_id.apply(lambda x: np.array(gexpdf[x]) if x in gexpdf else None)"
   ]
  },
  {
   "cell_type": "code",
   "execution_count": 87,
   "metadata": {},
   "outputs": [],
   "source": [
    "df = df.dropna(subset=['gexp'])"
   ]
  },
  {
   "cell_type": "code",
   "execution_count": 88,
   "metadata": {},
   "outputs": [],
   "source": [
    "x = np.array([z for z in df.gexp.values])"
   ]
  },
  {
   "cell_type": "code",
   "execution_count": 89,
   "metadata": {},
   "outputs": [],
   "source": [
    "y = np.array(df.Inh_index)"
   ]
  },
  {
   "cell_type": "code",
   "execution_count": 90,
   "metadata": {},
   "outputs": [
    {
     "data": {
      "text/plain": [
       "((99, 12328), (99,))"
      ]
     },
     "execution_count": 90,
     "metadata": {},
     "output_type": "execute_result"
    }
   ],
   "source": [
    "x.shape, y.shape"
   ]
  },
  {
   "cell_type": "code",
   "execution_count": 100,
   "metadata": {},
   "outputs": [
    {
     "name": "stderr",
     "output_type": "stream",
     "text": [
      "/Users/zswitten/coronavirus/env/lib/python3.7/site-packages/ipykernel_launcher.py:3: DtypeWarning: Columns (5) have mixed types.Specify dtype option on import or set low_memory=False.\n",
      "  This is separate from the ipykernel package so we can avoid doing imports until\n"
     ]
    },
    {
     "data": {
      "text/plain": [
       "<module 'make_training_data' from '/Users/zswitten/coronavirus/make_training_data.py'>"
      ]
     },
     "execution_count": 100,
     "metadata": {},
     "output_type": "execute_result"
    }
   ],
   "source": [
    "import make_training_data\n",
    "from importlib import reload\n",
    "reload(make_training_data)"
   ]
  },
  {
   "cell_type": "code",
   "execution_count": 97,
   "metadata": {},
   "outputs": [
    {
     "data": {
      "text/plain": [
       "((99, 12328), (99,))"
      ]
     },
     "execution_count": 97,
     "metadata": {},
     "output_type": "execute_result"
    }
   ],
   "source": [
    "make_training_data.test_x.shape, make_training_data.test_y.shape"
   ]
  },
  {
   "cell_type": "code",
   "execution_count": 98,
   "metadata": {},
   "outputs": [
    {
     "data": {
      "text/plain": [
       "((85, 12328), (85,))"
      ]
     },
     "execution_count": 98,
     "metadata": {},
     "output_type": "execute_result"
    }
   ],
   "source": [
    "make_training_data.valid_x.shape, make_training_data.valid_y.shape"
   ]
  },
  {
   "cell_type": "code",
   "execution_count": 99,
   "metadata": {},
   "outputs": [
    {
     "data": {
      "text/plain": [
       "((258, 12328), (258,))"
      ]
     },
     "execution_count": 99,
     "metadata": {},
     "output_type": "execute_result"
    }
   ],
   "source": [
    "make_training_data.train_x.shape, make_training_data.train_y.shape"
   ]
  },
  {
   "cell_type": "code",
   "execution_count": 154,
   "metadata": {},
   "outputs": [
    {
     "data": {
      "text/plain": [
       "<module 'vae' from '/Users/zswitten/coronavirus/vae.py'>"
      ]
     },
     "execution_count": 154,
     "metadata": {},
     "output_type": "execute_result"
    }
   ],
   "source": [
    "import vae\n",
    "reload(vae)"
   ]
  },
  {
   "cell_type": "code",
   "execution_count": 155,
   "metadata": {},
   "outputs": [
    {
     "name": "stdout",
     "output_type": "stream",
     "text": [
      "=======> Epoch: 0 Average loss: 5925284.0498046875\n",
      "=======> Epoch: 2 Average loss: 5870338.642578125\n",
      "=======> Epoch: 4 Average loss: 5843002.6611328125\n",
      "=======> Epoch: 6 Average loss: 5758320.052734375\n",
      "=======> Epoch: 8 Average loss: 5754792.7392578125\n",
      "=======> Epoch: 10 Average loss: 6054954.3466796875\n",
      "=======> Epoch: 12 Average loss: 5751742.4970703125\n",
      "=======> Epoch: 14 Average loss: 5594041.90625\n",
      "=======> Epoch: 16 Average loss: 6581034.41796875\n",
      "=======> Epoch: 18 Average loss: 5784892.783203125\n"
     ]
    },
    {
     "data": {
      "image/png": "[encoded data removed]",
      "text/plain": [
       "<Figure size 432x288 with 1 Axes>"
      ]
     },
     "metadata": {
      "needs_background": "light"
     },
     "output_type": "display_data"
    }
   ],
   "source": [
    "model = vae.train_vae(epochs=20, model=model)"
   ]
  },
  {
   "cell_type": "code",
   "execution_count": 153,
   "metadata": {},
   "outputs": [
    {
     "name": "stdout",
     "output_type": "stream",
     "text": [
      "=======> Epoch: 0 Average loss: 10004485.369140625\n",
      "=======> Epoch: 2 Average loss: 7751909.33984375\n",
      "=======> Epoch: 4 Average loss: 7229608.3955078125\n",
      "=======> Epoch: 6 Average loss: 6844007.1103515625\n",
      "=======> Epoch: 8 Average loss: 6558259.3310546875\n",
      "=======> Epoch: 10 Average loss: 6520358.1572265625\n",
      "=======> Epoch: 12 Average loss: 6335655.52734375\n",
      "=======> Epoch: 14 Average loss: 6201603.0439453125\n",
      "=======> Epoch: 16 Average loss: 6145515.7265625\n",
      "=======> Epoch: 18 Average loss: 6039415.646484375\n"
     ]
    },
    {
     "data": {
      "image/png": "[encoded data removed]",
      "text/plain": [
       "<Figure size 432x288 with 1 Axes>"
      ]
     },
     "metadata": {
      "needs_background": "light"
     },
     "output_type": "display_data"
    }
   ],
   "source": [
    "model = vae.train_vae(epochs=20)"
   ]
  },
  {
   "cell_type": "code",
   "execution_count": 131,
   "metadata": {},
   "outputs": [
    {
     "name": "stdout",
     "output_type": "stream",
     "text": [
      "=======> Epoch: 0 Average loss: 10004485.369140625\n",
      "=======> Epoch: 2 Average loss: 7751909.33984375\n",
      "=======> Epoch: 4 Average loss: 7229608.3955078125\n",
      "=======> Epoch: 6 Average loss: 6844007.1103515625\n",
      "=======> Epoch: 8 Average loss: 6558259.3310546875\n",
      "=======> Epoch: 10 Average loss: 6520358.1572265625\n",
      "=======> Epoch: 12 Average loss: 6335655.52734375\n",
      "=======> Epoch: 14 Average loss: 6201603.0439453125\n",
      "=======> Epoch: 16 Average loss: 6145515.7265625\n",
      "=======> Epoch: 18 Average loss: 6039415.646484375\n"
     ]
    },
    {
     "data": {
      "image/png": "[encoded data removed]",
      "text/plain": [
       "<Figure size 432x288 with 1 Axes>"
      ]
     },
     "metadata": {
      "needs_background": "light"
     },
     "output_type": "display_data"
    }
   ],
   "source": [
    "model = vae.train_vae(epochs=20)"
   ]
  },
  {
   "cell_type": "code",
   "execution_count": 134,
   "metadata": {},
   "outputs": [],
   "source": [
    "dl = vae.make_data_loader(vae.DATA_FILE)"
   ]
  },
  {
   "cell_type": "code",
   "execution_count": 150,
   "metadata": {},
   "outputs": [
    {
     "data": {
      "text/plain": [
       "torch.Size([32, 12328])"
      ]
     },
     "execution_count": 150,
     "metadata": {},
     "output_type": "execute_result"
    }
   ],
   "source": [
    "list(enumerate(dl))[3][1].shape"
   ]
  },
  {
   "cell_type": "code",
   "execution_count": 151,
   "metadata": {},
   "outputs": [
    {
     "ename": "NameError",
     "evalue": "name 'lincs' is not defined",
     "output_type": "error",
     "traceback": [
      "\u001b[0;31m---------------------------------------------------------------------------\u001b[0m",
      "\u001b[0;31mNameError\u001b[0m                                 Traceback (most recent call last)",
      "\u001b[0;32m<ipython-input-151-6024bf7a33c0>\u001b[0m in \u001b[0;36m<module>\u001b[0;34m\u001b[0m\n\u001b[0;32m----> 1\u001b[0;31m \u001b[0mlincs\u001b[0m\u001b[0;34m\u001b[0m\u001b[0;34m\u001b[0m\u001b[0m\n\u001b[0m",
      "\u001b[0;31mNameError\u001b[0m: name 'lincs' is not defined"
     ]
    }
   ],
   "source": [
    "lincs"
   ]
  },
  {
   "cell_type": "code",
   "execution_count": null,
   "metadata": {},
   "outputs": [],
   "source": []
  }
 ],
 "metadata": {
  "kernelspec": {
   "display_name": "Python 3",
   "language": "python",
   "name": "python3"
  },
  "language_info": {
   "codemirror_mode": {
    "name": "ipython",
    "version": 3
   },
   "file_extension": ".py",
   "mimetype": "text/x-python",
   "name": "python",
   "nbconvert_exporter": "python",
   "pygments_lexer": "ipython3",
   "version": "3.7.6"
  }
 },
 "nbformat": 4,
 "nbformat_minor": 4
}
